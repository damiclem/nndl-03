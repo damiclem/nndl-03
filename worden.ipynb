{
 "cells": [
  {
   "cell_type": "markdown",
   "metadata": {
    "colab_type": "text",
    "id": "Xdk04uBTXfrV"
   },
   "source": [
    "## Worden: vector encoded words based text generation\n",
    "\n"
   ]
  },
  {
   "cell_type": "code",
   "execution_count": null,
   "metadata": {
    "colab": {},
    "colab_type": "code",
    "executionInfo": {
     "elapsed": 1113,
     "status": "ok",
     "timestamp": 1597587664759,
     "user": {
      "displayName": "Damiano Clementel",
      "photoUrl": "https://lh3.googleusercontent.com/a-/AOh14GjSojKIZQrbIHuYLHos2Fla3V7LmaCePFAQIaCX=s64",
      "userId": "10198905746942011346"
     },
     "user_tz": -120
    },
    "id": "lyscnjUgXjaY"
   },
   "outputs": [],
   "source": [
    "# Run on colab\n",
    "ON_COLAB = False  \n",
    "# Define colab directory\n",
    "COLAB_PATH = '/content/drive/My Drive/UniPD/2019_20_Neural_Network_Deep_Learning/nndl-03'\n",
    "# Wheter to sample embedding again or not\n",
    "MAKE_EMBEDDINGS = False\n",
    "# Hyperparameters grid search\n",
    "HYPER_TRAIN = False\n",
    "# Model training\n",
    "MODEL_TRAIN = False\n",
    "# Number of training epoch\n",
    "NUM_EPOCHS = 1000\n",
    "# Batch size\n",
    "BATCH_SIZE = 100\n",
    "# Epochs saving interval\n",
    "SAVE_AFTER = 100\n",
    "# Percentage of training examples\n",
    "TRAIN_PERC = 0.95\n",
    "# Size of each sentence\n",
    "CROP_LEN = 10\n",
    "# Define embedding dimension\n",
    "EMBEDDING_DIM = 100\n",
    "# Define path to visualized model\n",
    "# MODEL_PATH = 'data/worden/2020_09_10_23_30_51'\n",
    "MODEL_PATH = 'data/worden/2020_09_11_10_49_22'"
   ]
  },
  {
   "cell_type": "code",
   "execution_count": 2,
   "metadata": {
    "colab": {
     "base_uri": "https://localhost:8080/",
     "height": 52
    },
    "colab_type": "code",
    "executionInfo": {
     "elapsed": 6356,
     "status": "ok",
     "timestamp": 1597587671704,
     "user": {
      "displayName": "Damiano Clementel",
      "photoUrl": "https://lh3.googleusercontent.com/a-/AOh14GjSojKIZQrbIHuYLHos2Fla3V7LmaCePFAQIaCX=s64",
      "userId": "10198905746942011346"
     },
     "user_tz": -120
    },
    "id": "d9S2xPKhXoSa",
    "outputId": "3f942998-5443-4127-de82-c21875e72ca6"
   },
   "outputs": [],
   "source": [
    "# Do only if colab setup has been chosen\n",
    "if ON_COLAB:\n",
    "\n",
    "    # Install some packages\n",
    "    !pip install unidecode\n",
    "    \n",
    "    # Import google drive dependencies\n",
    "    from google.colab import drive\n",
    "    import os\n",
    "    \n",
    "    # Mount remote drive\n",
    "    drive.mount('/content/drive', force_remount=True)\n",
    "    # Change working directory\n",
    "    os.chdir(COLAB_PATH)"
   ]
  },
  {
   "cell_type": "code",
   "execution_count": 3,
   "metadata": {
    "colab": {},
    "colab_type": "code",
    "executionInfo": {
     "elapsed": 1063,
     "status": "ok",
     "timestamp": 1597587676355,
     "user": {
      "displayName": "Damiano Clementel",
      "photoUrl": "https://lh3.googleusercontent.com/a-/AOh14GjSojKIZQrbIHuYLHos2Fla3V7LmaCePFAQIaCX=s64",
      "userId": "10198905746942011346"
     },
     "user_tz": -120
    },
    "id": "vAd5g-qyXfrY"
   },
   "outputs": [],
   "source": [
    "# Dependencies\n",
    "from src.network.network import grid_search, save_epochs, load_epochs, train_test_epochs\n",
    "from src.network.worden import Worden\n",
    "from src.dataset.transform import WordToVector, RandomCrop, ToTensor\n",
    "from src.dataset.dataset import train_test_split\n",
    "from src.dataset.dickens import DickensGE\n",
    "from src.embeddings import Glove\n",
    "from src.embeddings import plot_embeddings\n",
    "from torch.utils.data import DataLoader\n",
    "from torchvision import transforms\n",
    "from torch import optim, nn\n",
    "import matplotlib.pyplot as plt\n",
    "import pandas as pd\n",
    "import numpy as np\n",
    "import datetime\n",
    "import random\n",
    "import torch\n",
    "import json\n",
    "import os\n",
    "\n",
    "# Initialize torch random generator\n",
    "torch.manual_seed(42)\n",
    "# Initialize numpy random generator\n",
    "np.random.seed(42)\n",
    "# Initialize python random seed\n",
    "random.seed(42)\n",
    "\n",
    "%matplotlib inline"
   ]
  },
  {
   "cell_type": "code",
   "execution_count": 4,
   "metadata": {
    "colab": {},
    "colab_type": "code",
    "executionInfo": {
     "elapsed": 949,
     "status": "ok",
     "timestamp": 1597587677835,
     "user": {
      "displayName": "Damiano Clementel",
      "photoUrl": "https://lh3.googleusercontent.com/a-/AOh14GjSojKIZQrbIHuYLHos2Fla3V7LmaCePFAQIaCX=s64",
      "userId": "10198905746942011346"
     },
     "user_tz": -120
    },
    "id": "3BXdkmjhXfrk"
   },
   "outputs": [
    {
     "data": {
      "text/plain": [
       "device(type='cuda')"
      ]
     },
     "execution_count": 4,
     "metadata": {},
     "output_type": "execute_result"
    }
   ],
   "source": [
    "# Define CPU device\n",
    "cpu = torch.device('cpu')\n",
    "# Define best device (GPU if available, CPU otherwise)\n",
    "device = torch.device('cuda') if torch.cuda.is_available() else cpu\n",
    "\n",
    "# Show chosen device\n",
    "device"
   ]
  },
  {
   "cell_type": "code",
   "execution_count": 5,
   "metadata": {
    "colab": {
     "base_uri": "https://localhost:8080/",
     "height": 34
    },
    "colab_type": "code",
    "executionInfo": {
     "elapsed": 3653,
     "status": "ok",
     "timestamp": 1597587682451,
     "user": {
      "displayName": "Damiano Clementel",
      "photoUrl": "https://lh3.googleusercontent.com/a-/AOh14GjSojKIZQrbIHuYLHos2Fla3V7LmaCePFAQIaCX=s64",
      "userId": "10198905746942011346"
     },
     "user_tz": -120
    },
    "id": "9W4U8Ww6Xfry",
    "outputId": "b73f70a9-6b5f-471a-b6a6-fb5cb740e144"
   },
   "outputs": [
    {
     "name": "stdout",
     "output_type": "stream",
     "text": [
      "Dataset length: 2823\n"
     ]
    }
   ],
   "source": [
    "# Make dataset\n",
    "dataset = DickensGE.from_file('./data/great-expectations-dickens.txt', split_fn=DickensGE.split_words, min_length=20)\n",
    "# Show dataset length (number of sentences)\n",
    "print('Dataset length:', len(dataset))"
   ]
  },
  {
   "cell_type": "code",
   "execution_count": 6,
   "metadata": {
    "colab": {
     "base_uri": "https://localhost:8080/",
     "height": 211
    },
    "colab_type": "code",
    "executionInfo": {
     "elapsed": 1160,
     "status": "ok",
     "timestamp": 1597587684291,
     "user": {
      "displayName": "Damiano Clementel",
      "photoUrl": "https://lh3.googleusercontent.com/a-/AOh14GjSojKIZQrbIHuYLHos2Fla3V7LmaCePFAQIaCX=s64",
      "userId": "10198905746942011346"
     },
     "user_tz": -120
    },
    "id": "JCD2cJMAXfr8",
    "outputId": "9671d0ff-8ed7-4a6b-97ae-d6e6c354226a"
   },
   "outputs": [
    {
     "name": "stdout",
     "output_type": "stream",
     "text": [
      "['my', 'father', \"'s\", 'family', 'name', 'being', 'pirrip', ',', 'and', 'my', 'christian', 'name', 'philip', ',', 'my', 'infant', 'tongue', 'could', 'make', 'of', 'both', 'names', 'nothing', 'longer', 'or', 'more', 'explicit', 'than', 'pip', '.', 'so', ',', 'i', 'called', 'myself', 'pip', ',', 'and', 'came', 'to', 'be', 'called', 'pip', '.', '\\n']\n",
      "['i', 'give', 'pirrip', 'as', 'my', 'father', \"'s\", 'family', 'name', ',', 'on', 'the', 'authority', 'of', 'his', 'tombstone', 'and', 'my', 'sister', ',', 'mrs', '.', 'joe', 'gargery', ',', 'who', 'married', 'the', 'blacksmith', '.', 'as', 'i', 'never', 'saw', 'my', 'father', 'or', 'my', 'mother', ',', 'and', 'never', 'saw', 'any', 'likeness', 'of', 'either', 'of', 'them', 'for', 'their', 'days', 'were', 'long', 'before', 'the', 'days', 'of', 'photographs', ',', 'my', 'first', 'fancies', 'regarding', 'what', 'they', 'were', 'like', 'were', 'unreasonably', 'derived', 'from', 'their', 'tombstones', '.', 'the', 'shape', 'of', 'the', 'letters', 'on', 'my', 'father', \"'s\", ',', 'gave', 'me', 'an', 'odd', 'idea', 'that', 'he', 'was', 'a', 'square', ',', 'stout', ',', 'dark', 'man', ',', 'with', 'curly', 'black', 'hair', '.', 'from', 'the', 'character', 'and', 'turn', 'of', 'the', 'inscription', ',', '\"', 'also', 'georgiana', 'wife', 'of', 'the', 'above', ',', '\"', 'i', 'drew', 'a', 'childish', 'conclusion', 'that', 'my', 'mother', 'was', 'freckled', 'and', 'sickly', '.', 'to', 'five', 'little', 'stone', 'lozenges', ',', 'each', 'about', 'a', 'foot', 'and', 'a', 'half', 'long', ',', 'which', 'were', 'arranged', 'in', 'a', 'neat', 'row', 'beside', 'their', 'grave', ',', 'and', 'were', 'sacred', 'to', 'the', 'memory', 'of', 'five', 'little', 'brothers', 'of', 'mine', ',', 'who', 'gave', 'up', 'trying', 'to', 'get', 'a', 'living', ',', 'exceedingly', 'early', 'in', 'that', 'universal', 'struggle', ',', 'i', 'am', 'indebted', 'for', 'a', 'belief', 'i', 'religiously', 'entertained', 'that', 'they', 'had', 'all', 'been', 'born', 'on', 'their', 'backs', 'with', 'their', 'hands', 'in', 'their', 'trousers', 'pockets', ',', 'and', 'had', 'never', 'taken', 'them', 'out', 'in', 'this', 'state', 'of', 'existence', '.', '\\n']\n",
      "['ours', 'was', 'the', 'marsh', 'country', ',', 'down', 'by', 'the', 'river', ',', 'within', ',', 'as', 'the', 'river', 'wound', ',', 'twenty', 'miles', 'of', 'the', 'sea', '.', 'my', 'first', 'most', 'vivid', 'and', 'broad', 'impression', 'of', 'the', 'identity', 'of', 'things', 'seems', 'to', 'me', 'to', 'have', 'been', 'gained', 'on', 'a', 'memorable', 'raw', 'afternoon', 'towards', 'evening', '.', 'at', 'such', 'a', 'time', 'i', 'found', 'out', 'for', 'certain', 'that', 'this', 'bleak', 'place', 'overgrown', 'with', 'nettles', 'was', 'the', 'churchyard', 'and', 'that', 'philip', 'pirrip', ',', 'late', 'of', 'this', 'parish', ',', 'and', 'also', 'georgiana', 'wife', 'of', 'the', 'above', ',', 'were', 'dead', 'and', 'buried', 'and', 'that', 'alexander', ',', 'bartholomew', ',', 'abraham', ',', 'tobias', ',', 'and', 'roger', ',', 'infant', 'children', 'of', 'the', 'aforesaid', ',', 'were', 'also', 'dead', 'and', 'buried', 'and', 'that', 'the', 'dark', 'flat', 'wilderness', 'beyond', 'the', 'churchyard', ',', 'intersected', 'with', 'dikes', 'and', 'mounds', 'and', 'gates', ',', 'with', 'scattered', 'cattle', 'feeding', 'on', 'it', ',', 'was', 'the', 'marshes', 'and', 'that', 'the', 'low', 'leaden', 'line', 'beyond', 'was', 'the', 'river', 'and', 'that', 'the', 'distant', 'savage', 'lair', 'from', 'which', 'the', 'wind', 'was', 'rushing', 'was', 'the', 'sea', 'and', 'that', 'the', 'small', 'bundle', 'of', 'shivers', 'growing', 'afraid', 'of', 'it', 'all', 'and', 'beginning', 'to', 'cry', ',', 'was', 'pip', '.', '\\n']\n",
      "['\"', 'hold', 'your', 'noise', '!', '\"', 'cried', 'a', 'terrible', 'voice', ',', 'as', 'a', 'man', 'started', 'up', 'from', 'among', 'the', 'graves', 'at', 'the', 'side', 'of', 'the', 'church', 'porch', '.', '\"', 'keep', 'still', ',', 'you', 'little', 'devil', ',', 'or', 'i', \"'ll\", 'cut', 'your', 'throat', '!', '\"', '\\n']\n",
      "['a', 'fearful', 'man', ',', 'all', 'in', 'coarse', 'grey', ',', 'with', 'a', 'great', 'iron', 'on', 'his', 'leg', '.', 'a', 'man', 'with', 'no', 'hat', ',', 'and', 'with', 'broken', 'shoes', ',', 'and', 'with', 'an', 'old', 'rag', 'tied', 'round', 'his', 'head', '.', 'a', 'man', 'who', 'had', 'been', 'soaked', 'in', 'water', ',', 'and', 'smothered', 'in', 'mud', ',', 'and', 'lamed', 'by', 'stones', ',', 'and', 'cut', 'by', 'flints', ',', 'and', 'stung', 'by', 'nettles', ',', 'and', 'torn', 'by', 'briars', 'who', 'limped', ',', 'and', 'shivered', ',', 'and', 'glared', ',', 'and', 'growled', 'and', 'whose', 'teeth', 'chattered', 'in', 'his', 'head', 'as', 'he', 'seized', 'me', 'by', 'the', 'chin', '.', '\\n']\n",
      "['\"', 'oh', '!', 'don', \"'t\", 'cut', 'my', 'throat', ',', 'sir', ',', '\"', 'i', 'pleaded', 'in', 'terror', '.', '\"', 'pray', 'don', \"'t\", 'do', 'it', ',', 'sir', '.', '\"', '\\n']\n",
      "['\"', 'once', 'more', ',', '\"', 'said', 'the', 'man', ',', 'staring', 'at', 'me', '.', '\"', 'give', 'it', 'mouth', '!', '\"', '\\n']\n",
      "['\"', 'show', 'us', 'where', 'you', 'live', ',', '\"', 'said', 'the', 'man', '.', '\"', 'pint', 'out', 'the', 'place', '!', '\"', '\\n']\n",
      "['i', 'pointed', 'to', 'where', 'our', 'village', 'lay', ',', 'on', 'the', 'flat', 'in', 'shore', 'among', 'the', 'alder', 'trees', 'and', 'pollards', ',', 'a', 'mile', 'or', 'more', 'from', 'the', 'church', '.', '\\n']\n",
      "['the', 'man', ',', 'after', 'looking', 'at', 'me', 'for', 'a', 'moment', ',', 'turned', 'me', 'upside', 'down', ',', 'and', 'emptied', 'my', 'pockets', '.', 'there', 'was', 'nothing', 'in', 'them', 'but', 'a', 'piece', 'of', 'bread', '.', 'when', 'the', 'church', 'came', 'to', 'itself', ',', 'for', 'he', 'was', 'so', 'sudden', 'and', 'strong', 'that', 'he', 'made', 'it', 'go', 'head', 'over', 'heels', 'before', 'me', ',', 'and', 'i', 'saw', 'the', 'steeple', 'under', 'my', 'feet', ',', 'when', 'the', 'church', 'came', 'to', 'itself', ',', 'i', 'say', ',', 'i', 'was', 'seated', 'on', 'a', 'high', 'tombstone', ',', 'trembling', 'while', 'he', 'ate', 'the', 'bread', 'ravenously', '.', '\\n']\n"
     ]
    }
   ],
   "source": [
    "# Show first 3 sentences\n",
    "for i in range(10):\n",
    "    print(dataset[i])"
   ]
  },
  {
   "cell_type": "code",
   "execution_count": 7,
   "metadata": {
    "colab": {},
    "colab_type": "code",
    "executionInfo": {
     "elapsed": 1295,
     "status": "ok",
     "timestamp": 1597587686439,
     "user": {
      "displayName": "Damiano Clementel",
      "photoUrl": "https://lh3.googleusercontent.com/a-/AOh14GjSojKIZQrbIHuYLHos2Fla3V7LmaCePFAQIaCX=s64",
      "userId": "10198905746942011346"
     },
     "user_tz": -120
    },
    "id": "6AC6wvxKXfsE"
   },
   "outputs": [
    {
     "name": "stdout",
     "output_type": "stream",
     "text": [
      "['\\n', '!', '\"', \"'\", \"'ll\", \"'s\", \"'t\", ',', '.', '?', 'a', \"a'most\", 'aback', 'abandoned', 'abased']\n"
     ]
    }
   ],
   "source": [
    "# Initialize set of words in text\n",
    "words = set()\n",
    "# Go through each sentence in dataset\n",
    "for i in range(len(dataset)):\n",
    "    # Turn sentence (list of words) into set\n",
    "    sentence = set(dataset[i])\n",
    "    # Update words set\n",
    "    words |= sentence\n",
    "    \n",
    "# Sort words\n",
    "words = sorted(words)\n",
    "# Show some available words\n",
    "print(words[:15])"
   ]
  },
  {
   "cell_type": "markdown",
   "metadata": {
    "colab_type": "text",
    "id": "SC5XXA01XfsU"
   },
   "source": [
    "### Embeddings"
   ]
  },
  {
   "cell_type": "code",
   "execution_count": 8,
   "metadata": {
    "colab": {
     "base_uri": "https://localhost:8080/",
     "height": 34
    },
    "colab_type": "code",
    "executionInfo": {
     "elapsed": 1070,
     "status": "ok",
     "timestamp": 1597587692572,
     "user": {
      "displayName": "Damiano Clementel",
      "photoUrl": "https://lh3.googleusercontent.com/a-/AOh14GjSojKIZQrbIHuYLHos2Fla3V7LmaCePFAQIaCX=s64",
      "userId": "10198905746942011346"
     },
     "user_tz": -120
    },
    "id": "a-O3odS_XfsV",
    "outputId": "9a367da0-7fb1-4613-ce58-35d359400d7e"
   },
   "outputs": [
    {
     "name": "stdout",
     "output_type": "stream",
     "text": [
      "Embedding dimension is: 100\n"
     ]
    }
   ],
   "source": [
    "# Define embedding dimension\n",
    "embedding_dim = EMBEDDING_DIM\n",
    "# Show embedding dimension\n",
    "print('Embedding dimension is: {:d}'.format(embedding_dim))"
   ]
  },
  {
   "cell_type": "code",
   "execution_count": 9,
   "metadata": {},
   "outputs": [],
   "source": [
    "# Initialize embeddings\n",
    "embeddings = dict()\n",
    "# Define path to embeddings file\n",
    "embeddings_path = 'data/worden/embeddings.json'\n",
    "\n",
    "# Case embeddings are available from file\n",
    "if os.path.isfile(embeddings_path):\n",
    "    # Read from file\n",
    "    with open(embeddings_path, 'r') as file:\n",
    "        # Load embeddings\n",
    "        embeddings = json.load(file)"
   ]
  },
  {
   "cell_type": "code",
   "execution_count": 10,
   "metadata": {
    "colab": {},
    "colab_type": "code",
    "executionInfo": {
     "elapsed": 1017,
     "status": "ok",
     "timestamp": 1597587713988,
     "user": {
      "displayName": "Damiano Clementel",
      "photoUrl": "https://lh3.googleusercontent.com/a-/AOh14GjSojKIZQrbIHuYLHos2Fla3V7LmaCePFAQIaCX=s64",
      "userId": "10198905746942011346"
     },
     "user_tz": -120
    },
    "id": "vEKuCIW-22l2"
   },
   "outputs": [],
   "source": [
    "# Otherwise, retrieve vectors from Glove or sample them\n",
    "if MAKE_EMBEDDINGS:\n",
    "    \n",
    "    # Load glove embeddings\n",
    "    glove = Glove.from_file(path='data/glove.6B/glove.6B.100d.txt', words=words)\n",
    "    # Define sample mean and standard deviation (from plot)\n",
    "    mean, std = -0.01, 0.47\n",
    "    \n",
    "    # Reinitialize embeddings dictionary\n",
    "    embeddings = dict()\n",
    "    # Loop through each word (plus unknown vector)\n",
    "    for word in ['', *words]:\n",
    "        # Sample vector using normal distribution\n",
    "        vector = np.random.normal(loc=mean, scale=std, size=(embedding_dim, )).tolist()\n",
    "        # Eventually, retrieve vector from glove\n",
    "        vector = glove.get(word, vector)\n",
    "        # Store vector, associate it to current word\n",
    "        embeddings.setdefault(word, vector)\n",
    "\n",
    "    # Save embeddings to dictionary\n",
    "    with open(embeddings_path, 'w') as file:\n",
    "        # Store embeddings\n",
    "        json.dump(embeddings, file)\n",
    "\n",
    "# Get ordered list of words\n",
    "words = [*embeddings.keys()]\n",
    "# Get vectors as float tensor\n",
    "vectors = torch.tensor([*embeddings.values()], dtype=torch.float)"
   ]
  },
  {
   "cell_type": "code",
   "execution_count": 11,
   "metadata": {
    "colab": {
     "base_uri": "https://localhost:8080/",
     "height": 444
    },
    "colab_type": "code",
    "executionInfo": {
     "elapsed": 1642,
     "status": "ok",
     "timestamp": 1597587716369,
     "user": {
      "displayName": "Damiano Clementel",
      "photoUrl": "https://lh3.googleusercontent.com/a-/AOh14GjSojKIZQrbIHuYLHos2Fla3V7LmaCePFAQIaCX=s64",
      "userId": "10198905746942011346"
     },
     "user_tz": -120
    },
    "id": "Mw1B6ZAaXfs1",
    "outputId": "ad2d8eca-9e27-4a68-a4ca-fd2cf0dde6af"
   },
   "outputs": [
    {
     "data": {
      "image/png": "[encoded data removed]",
      "text/plain": [
       "<Figure size 1008x504 with 2 Axes>"
      ]
     },
     "metadata": {
      "needs_background": "light"
     },
     "output_type": "display_data"
    }
   ],
   "source": [
    "# Plot mean and variance distribution in retrieved embeddings\n",
    "plot_embeddings(embeddings)"
   ]
  },
  {
   "cell_type": "code",
   "execution_count": 12,
   "metadata": {},
   "outputs": [
    {
     "name": "stdout",
     "output_type": "stream",
     "text": [
      "Embeddings:\n",
      "''\t(1):\t[0.22, -0.07, 0.29, 0.71, -0.12, -0.12, 0.73, 0.35, -0.23, 0.25, ...]\n",
      "'\\n'\t(2):\t[-0.68, -0.21, -0.17, -0.39, -0.09, 0.18, 0.88, 0.07, 0.11, -0.04, ...]\n",
      "'!'\t(3):\t[0.38, 0.49, 0.49, -1.54, -0.34, 0.62, 0.32, 0.08, 0.66, -0.24, ...]\n",
      "'\"'\t(4):\t[-0.30, -0.24, 0.18, -0.73, -0.28, -0.26, 0.27, 0.03, -0.07, -0.38, ...]\n",
      "\"'\"\t(5):\t[-0.35, -0.25, 0.59, -0.89, -1.10, -0.45, -0.07, -0.45, -0.38, -0.49, ...]\n",
      "\"'ll\"\t(6):\t[-0.23, 0.52, 0.50, -0.69, -0.53, 0.18, -0.26, 0.59, 0.07, -0.42, ...]\n",
      "\"'s\"\t(7):\t[0.59, -0.20, 0.73, -0.68, -0.20, -0.18, -0.39, 0.34, -0.61, 0.64, ...]\n",
      "\"'t\"\t(8):\t[-0.26, 0.48, -0.34, -0.67, -0.74, 0.27, -0.61, 0.81, -0.99, 0.79, ...]\n",
      "','\t(9):\t[-0.11, 0.11, 0.60, -0.54, 0.67, 0.11, 0.04, 0.35, 0.06, -0.09, ...]\n",
      "'.'\t(10):\t[-0.34, 0.21, 0.46, -0.65, -0.38, 0.04, 0.17, 0.16, 0.47, -0.02, ...]\n",
      "...\n"
     ]
    }
   ],
   "source": [
    "# Show some embeddings\n",
    "\n",
    "# Initialize output message\n",
    "msg = ['Embeddings:']\n",
    "# Add new message\n",
    "msg += [\n",
    "    '{:s}\\t({:d}):\\t[{:s}, ...]'.format(repr(word), i + 1, ', '.join(['%.02f' % v for v in vector[:10]]))\n",
    "    for i, (word, vector)\n",
    "    in enumerate([*embeddings.items()][:10])\n",
    "]\n",
    "# Add to-be-continued row\n",
    "msg += ['...']\n",
    "# Show message\n",
    "print('\\n'.join(msg))"
   ]
  },
  {
   "cell_type": "code",
   "execution_count": 13,
   "metadata": {
    "colab": {},
    "colab_type": "code",
    "executionInfo": {
     "elapsed": 891,
     "status": "ok",
     "timestamp": 1597587717976,
     "user": {
      "displayName": "Damiano Clementel",
      "photoUrl": "https://lh3.googleusercontent.com/a-/AOh14GjSojKIZQrbIHuYLHos2Fla3V7LmaCePFAQIaCX=s64",
      "userId": "10198905746942011346"
     },
     "user_tz": -120
    },
    "id": "IyEl33fnXfs8"
   },
   "outputs": [],
   "source": [
    "# Define random crop\n",
    "random_crop = RandomCrop(CROP_LEN)\n",
    "# Define word to vector transform\n",
    "word_to_vector = WordToVector(words)\n",
    "# Define tensor parser\n",
    "to_tensor = ToTensor(torch.long)\n",
    "\n",
    "# Define transformation for dataset\n",
    "dataset.transform = transforms.Compose([\n",
    "  random_crop,\n",
    "  word_to_vector,\n",
    "  to_tensor\n",
    "])"
   ]
  },
  {
   "cell_type": "code",
   "execution_count": 14,
   "metadata": {
    "colab": {
     "base_uri": "https://localhost:8080/",
     "height": 69
    },
    "colab_type": "code",
    "executionInfo": {
     "elapsed": 503,
     "status": "ok",
     "timestamp": 1597587719325,
     "user": {
      "displayName": "Damiano Clementel",
      "photoUrl": "https://lh3.googleusercontent.com/a-/AOh14GjSojKIZQrbIHuYLHos2Fla3V7LmaCePFAQIaCX=s64",
      "userId": "10198905746942011346"
     },
     "user_tz": -120
    },
    "id": "8tyHTd1dXftC",
    "outputId": "027214d6-5625-4f41-cd10-bf3b0d6ec60f"
   },
   "outputs": [
    {
     "name": "stdout",
     "output_type": "stream",
     "text": [
      "Sentence nr 1 has shape 10\n",
      "Sentence nr 2 has shape 10\n",
      "Sentence nr 3 has shape 10\n",
      "...\n"
     ]
    }
   ],
   "source": [
    "# Show first 3 sentences shapes\n",
    "for i in range(3):\n",
    "    print('Sentence nr {:d} has shape {:d}'.format(i+1, *dataset[i].shape))\n",
    "print('...')"
   ]
  },
  {
   "cell_type": "markdown",
   "metadata": {
    "colab_type": "text",
    "id": "fLHcTPraXftI"
   },
   "source": [
    "### Hyperparameters tuning"
   ]
  },
  {
   "cell_type": "code",
   "execution_count": 15,
   "metadata": {
    "colab": {},
    "colab_type": "code",
    "executionInfo": {
     "elapsed": 945,
     "status": "ok",
     "timestamp": 1597587722101,
     "user": {
      "displayName": "Damiano Clementel",
      "photoUrl": "https://lh3.googleusercontent.com/a-/AOh14GjSojKIZQrbIHuYLHos2Fla3V7LmaCePFAQIaCX=s64",
      "userId": "10198905746942011346"
     },
     "user_tz": -120
    },
    "id": "4uvgiVPFXftJ"
   },
   "outputs": [],
   "source": [
    "# Split initial dataset in train dataset and test dataset\n",
    "train_dataset, test_dataset = train_test_split(dataset, TRAIN_PERC)\n",
    "# Make train dataloader\n",
    "train_dataloader = DataLoader(train_dataset, batch_size=BATCH_SIZE, shuffle=True)\n",
    "# Make test dataloader\n",
    "test_dataloader = DataLoader(test_dataset, batch_size=BATCH_SIZE, shuffle=False)"
   ]
  },
  {
   "cell_type": "code",
   "execution_count": 16,
   "metadata": {
    "colab": {},
    "colab_type": "code",
    "executionInfo": {
     "elapsed": 459,
     "status": "ok",
     "timestamp": 1597587723102,
     "user": {
      "displayName": "Damiano Clementel",
      "photoUrl": "https://lh3.googleusercontent.com/a-/AOh14GjSojKIZQrbIHuYLHos2Fla3V7LmaCePFAQIaCX=s64",
      "userId": "10198905746942011346"
     },
     "user_tz": -120
    },
    "id": "W79jF20xXftP"
   },
   "outputs": [],
   "source": [
    "# Do only if hyperparameters training is enabled\n",
    "if HYPER_TRAIN:\n",
    "    \n",
    "    # Make parameters training\n",
    "    train_losses, train_times, test_losses, test_times, params = grid_search(\n",
    "        train_dl=train_dataloader, test_dl=test_dataloader,\n",
    "        net=[Worden], net__vocab_size=[len(words)], net__embedding_dim=[embedding_dim],\n",
    "        net__trained_embeddings=[vectors], net__freeze_embeddings=[False],\n",
    "        net__hidden_units=[128, 256], net__layers_num=[2, 3],\n",
    "        net__hidden_type=['GRU', 'LSTM'], net__dropout_prob=[0.1, 0.3],\n",
    "        optim=[optim.Adam], lr=[1e-3, 1e-4], optim__weight_decay=[1e-4, 1e-5],\n",
    "        loss_fn=[nn.CrossEntropyLoss],\n",
    "        num_epochs=10,\n",
    "        verbose=True,\n",
    "        device=device\n",
    "    )\n",
    "\n",
    "    # Store parameters to disk\n",
    "    save_epochs(\n",
    "        path='data/worden/hyper.json',\n",
    "        train_losses=train_losses,\n",
    "        train_times=train_times,\n",
    "        test_losses=test_losses,\n",
    "        test_times=test_times,\n",
    "        params=[{\n",
    "            # Turn param value into string\n",
    "            str(kw): str(params[i][kw]) for kw in params[i]}\n",
    "            # Loop through each parameter combination\n",
    "            for i in range(len(params))\n",
    "        ]\n",
    "    )"
   ]
  },
  {
   "cell_type": "code",
   "execution_count": 17,
   "metadata": {
    "colab": {
     "base_uri": "https://localhost:8080/",
     "height": 1000
    },
    "colab_type": "code",
    "executionInfo": {
     "elapsed": 893,
     "status": "ok",
     "timestamp": 1597587725492,
     "user": {
      "displayName": "Damiano Clementel",
      "photoUrl": "https://lh3.googleusercontent.com/a-/AOh14GjSojKIZQrbIHuYLHos2Fla3V7LmaCePFAQIaCX=s64",
      "userId": "10198905746942011346"
     },
     "user_tz": -120
    },
    "id": "VDhHnMdKsJuk",
    "outputId": "b3ede63d-8bdb-450d-8627-759ac503fab7"
   },
   "outputs": [
    {
     "data": {
      "text/html": [
       "<div>\n",
       "<style scoped>\n",
       "    .dataframe tbody tr th:only-of-type {\n",
       "        vertical-align: middle;\n",
       "    }\n",
       "\n",
       "    .dataframe tbody tr th {\n",
       "        vertical-align: top;\n",
       "    }\n",
       "\n",
       "    .dataframe thead th {\n",
       "        text-align: right;\n",
       "    }\n",
       "</style>\n",
       "<table border=\"1\" class=\"dataframe\">\n",
       "  <thead>\n",
       "    <tr style=\"text-align: right;\">\n",
       "      <th></th>\n",
       "      <th>train_loss</th>\n",
       "      <th>train_time</th>\n",
       "      <th>test_loss</th>\n",
       "      <th>test_time</th>\n",
       "      <th>net</th>\n",
       "      <th>net__vocab_size</th>\n",
       "      <th>net__embedding_dim</th>\n",
       "      <th>net__trained_embeddings</th>\n",
       "      <th>net__freeze_embeddings</th>\n",
       "      <th>net__hidden_units</th>\n",
       "      <th>net__layers_num</th>\n",
       "      <th>net__hidden_type</th>\n",
       "      <th>net__dropout_prob</th>\n",
       "      <th>optim</th>\n",
       "      <th>lr</th>\n",
       "      <th>optim__weight_decay</th>\n",
       "      <th>loss_fn</th>\n",
       "    </tr>\n",
       "  </thead>\n",
       "  <tbody>\n",
       "    <tr>\n",
       "      <th>7</th>\n",
       "      <td>5.834407</td>\n",
       "      <td>2.308501</td>\n",
       "      <td>5.550230</td>\n",
       "      <td>0.101115</td>\n",
       "      <td>&lt;class 'src.network.worden.Worden'&gt;</td>\n",
       "      <td>10680</td>\n",
       "      <td>100</td>\n",
       "      <td>tensor([[ 0.2235, -0.0750,  0.2944,  ...,  0.1...</td>\n",
       "      <td>False</td>\n",
       "      <td>128</td>\n",
       "      <td>2</td>\n",
       "      <td>GRU</td>\n",
       "      <td>0.3</td>\n",
       "      <td>&lt;class 'torch.optim.adam.Adam'&gt;</td>\n",
       "      <td>0.0001</td>\n",
       "      <td>1e-05</td>\n",
       "      <td>&lt;class 'torch.nn.modules.loss.CrossEntropyLoss'&gt;</td>\n",
       "    </tr>\n",
       "    <tr>\n",
       "      <th>40</th>\n",
       "      <td>6.041143</td>\n",
       "      <td>2.604964</td>\n",
       "      <td>5.588251</td>\n",
       "      <td>0.104593</td>\n",
       "      <td>&lt;class 'src.network.worden.Worden'&gt;</td>\n",
       "      <td>10680</td>\n",
       "      <td>100</td>\n",
       "      <td>tensor([[ 0.2235, -0.0750,  0.2944,  ...,  0.1...</td>\n",
       "      <td>False</td>\n",
       "      <td>256</td>\n",
       "      <td>2</td>\n",
       "      <td>LSTM</td>\n",
       "      <td>0.1</td>\n",
       "      <td>&lt;class 'torch.optim.adam.Adam'&gt;</td>\n",
       "      <td>0.001</td>\n",
       "      <td>0.0001</td>\n",
       "      <td>&lt;class 'torch.nn.modules.loss.CrossEntropyLoss'&gt;</td>\n",
       "    </tr>\n",
       "    <tr>\n",
       "      <th>31</th>\n",
       "      <td>6.063674</td>\n",
       "      <td>2.385208</td>\n",
       "      <td>5.638648</td>\n",
       "      <td>0.100980</td>\n",
       "      <td>&lt;class 'src.network.worden.Worden'&gt;</td>\n",
       "      <td>10680</td>\n",
       "      <td>100</td>\n",
       "      <td>tensor([[ 0.2235, -0.0750,  0.2944,  ...,  0.1...</td>\n",
       "      <td>False</td>\n",
       "      <td>128</td>\n",
       "      <td>3</td>\n",
       "      <td>LSTM</td>\n",
       "      <td>0.3</td>\n",
       "      <td>&lt;class 'torch.optim.adam.Adam'&gt;</td>\n",
       "      <td>0.0001</td>\n",
       "      <td>1e-05</td>\n",
       "      <td>&lt;class 'torch.nn.modules.loss.CrossEntropyLoss'&gt;</td>\n",
       "    </tr>\n",
       "  </tbody>\n",
       "</table>\n",
       "</div>"
      ],
      "text/plain": [
       "    train_loss  train_time  test_loss  test_time  \\\n",
       "7     5.834407    2.308501   5.550230   0.101115   \n",
       "40    6.041143    2.604964   5.588251   0.104593   \n",
       "31    6.063674    2.385208   5.638648   0.100980   \n",
       "\n",
       "                                    net net__vocab_size net__embedding_dim  \\\n",
       "7   <class 'src.network.worden.Worden'>           10680                100   \n",
       "40  <class 'src.network.worden.Worden'>           10680                100   \n",
       "31  <class 'src.network.worden.Worden'>           10680                100   \n",
       "\n",
       "                              net__trained_embeddings net__freeze_embeddings  \\\n",
       "7   tensor([[ 0.2235, -0.0750,  0.2944,  ...,  0.1...                  False   \n",
       "40  tensor([[ 0.2235, -0.0750,  0.2944,  ...,  0.1...                  False   \n",
       "31  tensor([[ 0.2235, -0.0750,  0.2944,  ...,  0.1...                  False   \n",
       "\n",
       "   net__hidden_units net__layers_num net__hidden_type net__dropout_prob  \\\n",
       "7                128               2              GRU               0.3   \n",
       "40               256               2             LSTM               0.1   \n",
       "31               128               3             LSTM               0.3   \n",
       "\n",
       "                              optim      lr optim__weight_decay  \\\n",
       "7   <class 'torch.optim.adam.Adam'>  0.0001               1e-05   \n",
       "40  <class 'torch.optim.adam.Adam'>   0.001              0.0001   \n",
       "31  <class 'torch.optim.adam.Adam'>  0.0001               1e-05   \n",
       "\n",
       "                                             loss_fn  \n",
       "7   <class 'torch.nn.modules.loss.CrossEntropyLoss'>  \n",
       "40  <class 'torch.nn.modules.loss.CrossEntropyLoss'>  \n",
       "31  <class 'torch.nn.modules.loss.CrossEntropyLoss'>  "
      ]
     },
     "execution_count": 17,
     "metadata": {},
     "output_type": "execute_result"
    }
   ],
   "source": [
    "# Load parameters from disk\n",
    "train_losses, train_times, test_losses, test_times, others = load_epochs(\n",
    "    path='data/worden/hyper.json'\n",
    ")\n",
    "\n",
    "# Define common index\n",
    "index = range(len(train_losses))\n",
    "# Turn params into a dictionary itself\n",
    "params = pd.DataFrame.from_records(data=others.get('params'), index=index)\n",
    "# Make grid search results dataframe\n",
    "results = pd.DataFrame(index=index, data={\n",
    "    'train_loss': map(lambda x: x[-1], train_losses),\n",
    "    'train_time': map(lambda x: x[-1], train_times),\n",
    "    'test_loss': test_losses,\n",
    "    'test_time': test_times\n",
    "})\n",
    "# Add parameters\n",
    "results = pd.concat([results, params], axis=1)\n",
    "# Sort by training loss and training time\n",
    "results = results.sort_values(by=['test_loss', 'train_time'])\n",
    "# Show grid search\n",
    "results.head(3)"
   ]
  },
  {
   "cell_type": "code",
   "execution_count": 18,
   "metadata": {},
   "outputs": [
    {
     "data": {
      "text/html": [
       "<div>\n",
       "<style scoped>\n",
       "    .dataframe tbody tr th:only-of-type {\n",
       "        vertical-align: middle;\n",
       "    }\n",
       "\n",
       "    .dataframe tbody tr th {\n",
       "        vertical-align: top;\n",
       "    }\n",
       "\n",
       "    .dataframe thead th {\n",
       "        text-align: right;\n",
       "    }\n",
       "</style>\n",
       "<table border=\"1\" class=\"dataframe\">\n",
       "  <thead>\n",
       "    <tr style=\"text-align: right;\">\n",
       "      <th></th>\n",
       "      <th>train_loss</th>\n",
       "      <th>train_time</th>\n",
       "      <th>test_loss</th>\n",
       "      <th>test_time</th>\n",
       "      <th>net</th>\n",
       "      <th>net__vocab_size</th>\n",
       "      <th>net__embedding_dim</th>\n",
       "      <th>net__trained_embeddings</th>\n",
       "      <th>net__freeze_embeddings</th>\n",
       "      <th>net__hidden_units</th>\n",
       "      <th>net__layers_num</th>\n",
       "      <th>net__hidden_type</th>\n",
       "      <th>net__dropout_prob</th>\n",
       "      <th>optim</th>\n",
       "      <th>lr</th>\n",
       "      <th>optim__weight_decay</th>\n",
       "      <th>loss_fn</th>\n",
       "    </tr>\n",
       "  </thead>\n",
       "  <tbody>\n",
       "    <tr>\n",
       "      <th>7</th>\n",
       "      <td>5.834407</td>\n",
       "      <td>2.308501</td>\n",
       "      <td>5.550230</td>\n",
       "      <td>0.101115</td>\n",
       "      <td>&lt;class 'src.network.worden.Worden'&gt;</td>\n",
       "      <td>10680</td>\n",
       "      <td>100</td>\n",
       "      <td>tensor([[ 0.2235, -0.0750,  0.2944,  ...,  0.1...</td>\n",
       "      <td>False</td>\n",
       "      <td>128</td>\n",
       "      <td>2</td>\n",
       "      <td>GRU</td>\n",
       "      <td>0.3</td>\n",
       "      <td>&lt;class 'torch.optim.adam.Adam'&gt;</td>\n",
       "      <td>0.0001</td>\n",
       "      <td>1e-05</td>\n",
       "      <td>&lt;class 'torch.nn.modules.loss.CrossEntropyLoss'&gt;</td>\n",
       "    </tr>\n",
       "    <tr>\n",
       "      <th>40</th>\n",
       "      <td>6.041143</td>\n",
       "      <td>2.604964</td>\n",
       "      <td>5.588251</td>\n",
       "      <td>0.104593</td>\n",
       "      <td>&lt;class 'src.network.worden.Worden'&gt;</td>\n",
       "      <td>10680</td>\n",
       "      <td>100</td>\n",
       "      <td>tensor([[ 0.2235, -0.0750,  0.2944,  ...,  0.1...</td>\n",
       "      <td>False</td>\n",
       "      <td>256</td>\n",
       "      <td>2</td>\n",
       "      <td>LSTM</td>\n",
       "      <td>0.1</td>\n",
       "      <td>&lt;class 'torch.optim.adam.Adam'&gt;</td>\n",
       "      <td>0.001</td>\n",
       "      <td>0.0001</td>\n",
       "      <td>&lt;class 'torch.nn.modules.loss.CrossEntropyLoss'&gt;</td>\n",
       "    </tr>\n",
       "    <tr>\n",
       "      <th>31</th>\n",
       "      <td>6.063674</td>\n",
       "      <td>2.385208</td>\n",
       "      <td>5.638648</td>\n",
       "      <td>0.100980</td>\n",
       "      <td>&lt;class 'src.network.worden.Worden'&gt;</td>\n",
       "      <td>10680</td>\n",
       "      <td>100</td>\n",
       "      <td>tensor([[ 0.2235, -0.0750,  0.2944,  ...,  0.1...</td>\n",
       "      <td>False</td>\n",
       "      <td>128</td>\n",
       "      <td>3</td>\n",
       "      <td>LSTM</td>\n",
       "      <td>0.3</td>\n",
       "      <td>&lt;class 'torch.optim.adam.Adam'&gt;</td>\n",
       "      <td>0.0001</td>\n",
       "      <td>1e-05</td>\n",
       "      <td>&lt;class 'torch.nn.modules.loss.CrossEntropyLoss'&gt;</td>\n",
       "    </tr>\n",
       "    <tr>\n",
       "      <th>60</th>\n",
       "      <td>6.011168</td>\n",
       "      <td>2.736084</td>\n",
       "      <td>5.652858</td>\n",
       "      <td>0.103045</td>\n",
       "      <td>&lt;class 'src.network.worden.Worden'&gt;</td>\n",
       "      <td>10680</td>\n",
       "      <td>100</td>\n",
       "      <td>tensor([[ 0.2235, -0.0750,  0.2944,  ...,  0.1...</td>\n",
       "      <td>False</td>\n",
       "      <td>256</td>\n",
       "      <td>3</td>\n",
       "      <td>LSTM</td>\n",
       "      <td>0.3</td>\n",
       "      <td>&lt;class 'torch.optim.adam.Adam'&gt;</td>\n",
       "      <td>0.001</td>\n",
       "      <td>0.0001</td>\n",
       "      <td>&lt;class 'torch.nn.modules.loss.CrossEntropyLoss'&gt;</td>\n",
       "    </tr>\n",
       "    <tr>\n",
       "      <th>43</th>\n",
       "      <td>6.071773</td>\n",
       "      <td>2.613635</td>\n",
       "      <td>5.724272</td>\n",
       "      <td>0.103783</td>\n",
       "      <td>&lt;class 'src.network.worden.Worden'&gt;</td>\n",
       "      <td>10680</td>\n",
       "      <td>100</td>\n",
       "      <td>tensor([[ 0.2235, -0.0750,  0.2944,  ...,  0.1...</td>\n",
       "      <td>False</td>\n",
       "      <td>256</td>\n",
       "      <td>2</td>\n",
       "      <td>LSTM</td>\n",
       "      <td>0.1</td>\n",
       "      <td>&lt;class 'torch.optim.adam.Adam'&gt;</td>\n",
       "      <td>0.0001</td>\n",
       "      <td>1e-05</td>\n",
       "      <td>&lt;class 'torch.nn.modules.loss.CrossEntropyLoss'&gt;</td>\n",
       "    </tr>\n",
       "    <tr>\n",
       "      <th>15</th>\n",
       "      <td>5.924978</td>\n",
       "      <td>2.315336</td>\n",
       "      <td>5.741113</td>\n",
       "      <td>0.102865</td>\n",
       "      <td>&lt;class 'src.network.worden.Worden'&gt;</td>\n",
       "      <td>10680</td>\n",
       "      <td>100</td>\n",
       "      <td>tensor([[ 0.2235, -0.0750,  0.2944,  ...,  0.1...</td>\n",
       "      <td>False</td>\n",
       "      <td>128</td>\n",
       "      <td>2</td>\n",
       "      <td>LSTM</td>\n",
       "      <td>0.3</td>\n",
       "      <td>&lt;class 'torch.optim.adam.Adam'&gt;</td>\n",
       "      <td>0.0001</td>\n",
       "      <td>1e-05</td>\n",
       "      <td>&lt;class 'torch.nn.modules.loss.CrossEntropyLoss'&gt;</td>\n",
       "    </tr>\n",
       "    <tr>\n",
       "      <th>20</th>\n",
       "      <td>6.013884</td>\n",
       "      <td>2.369699</td>\n",
       "      <td>5.769591</td>\n",
       "      <td>0.101619</td>\n",
       "      <td>&lt;class 'src.network.worden.Worden'&gt;</td>\n",
       "      <td>10680</td>\n",
       "      <td>100</td>\n",
       "      <td>tensor([[ 0.2235, -0.0750,  0.2944,  ...,  0.1...</td>\n",
       "      <td>False</td>\n",
       "      <td>128</td>\n",
       "      <td>3</td>\n",
       "      <td>GRU</td>\n",
       "      <td>0.3</td>\n",
       "      <td>&lt;class 'torch.optim.adam.Adam'&gt;</td>\n",
       "      <td>0.001</td>\n",
       "      <td>0.0001</td>\n",
       "      <td>&lt;class 'torch.nn.modules.loss.CrossEntropyLoss'&gt;</td>\n",
       "    </tr>\n",
       "    <tr>\n",
       "      <th>3</th>\n",
       "      <td>5.951995</td>\n",
       "      <td>2.306089</td>\n",
       "      <td>5.777659</td>\n",
       "      <td>0.097589</td>\n",
       "      <td>&lt;class 'src.network.worden.Worden'&gt;</td>\n",
       "      <td>10680</td>\n",
       "      <td>100</td>\n",
       "      <td>tensor([[ 0.2235, -0.0750,  0.2944,  ...,  0.1...</td>\n",
       "      <td>False</td>\n",
       "      <td>128</td>\n",
       "      <td>2</td>\n",
       "      <td>GRU</td>\n",
       "      <td>0.1</td>\n",
       "      <td>&lt;class 'torch.optim.adam.Adam'&gt;</td>\n",
       "      <td>0.0001</td>\n",
       "      <td>1e-05</td>\n",
       "      <td>&lt;class 'torch.nn.modules.loss.CrossEntropyLoss'&gt;</td>\n",
       "    </tr>\n",
       "    <tr>\n",
       "      <th>54</th>\n",
       "      <td>6.145443</td>\n",
       "      <td>2.705699</td>\n",
       "      <td>5.792632</td>\n",
       "      <td>0.104316</td>\n",
       "      <td>&lt;class 'src.network.worden.Worden'&gt;</td>\n",
       "      <td>10680</td>\n",
       "      <td>100</td>\n",
       "      <td>tensor([[ 0.2235, -0.0750,  0.2944,  ...,  0.1...</td>\n",
       "      <td>False</td>\n",
       "      <td>256</td>\n",
       "      <td>3</td>\n",
       "      <td>GRU</td>\n",
       "      <td>0.3</td>\n",
       "      <td>&lt;class 'torch.optim.adam.Adam'&gt;</td>\n",
       "      <td>0.0001</td>\n",
       "      <td>0.0001</td>\n",
       "      <td>&lt;class 'torch.nn.modules.loss.CrossEntropyLoss'&gt;</td>\n",
       "    </tr>\n",
       "    <tr>\n",
       "      <th>11</th>\n",
       "      <td>6.011192</td>\n",
       "      <td>2.328246</td>\n",
       "      <td>5.797469</td>\n",
       "      <td>0.101061</td>\n",
       "      <td>&lt;class 'src.network.worden.Worden'&gt;</td>\n",
       "      <td>10680</td>\n",
       "      <td>100</td>\n",
       "      <td>tensor([[ 0.2235, -0.0750,  0.2944,  ...,  0.1...</td>\n",
       "      <td>False</td>\n",
       "      <td>128</td>\n",
       "      <td>2</td>\n",
       "      <td>LSTM</td>\n",
       "      <td>0.1</td>\n",
       "      <td>&lt;class 'torch.optim.adam.Adam'&gt;</td>\n",
       "      <td>0.0001</td>\n",
       "      <td>1e-05</td>\n",
       "      <td>&lt;class 'torch.nn.modules.loss.CrossEntropyLoss'&gt;</td>\n",
       "    </tr>\n",
       "  </tbody>\n",
       "</table>\n",
       "</div>"
      ],
      "text/plain": [
       "    train_loss  train_time  test_loss  test_time  \\\n",
       "7     5.834407    2.308501   5.550230   0.101115   \n",
       "40    6.041143    2.604964   5.588251   0.104593   \n",
       "31    6.063674    2.385208   5.638648   0.100980   \n",
       "60    6.011168    2.736084   5.652858   0.103045   \n",
       "43    6.071773    2.613635   5.724272   0.103783   \n",
       "15    5.924978    2.315336   5.741113   0.102865   \n",
       "20    6.013884    2.369699   5.769591   0.101619   \n",
       "3     5.951995    2.306089   5.777659   0.097589   \n",
       "54    6.145443    2.705699   5.792632   0.104316   \n",
       "11    6.011192    2.328246   5.797469   0.101061   \n",
       "\n",
       "                                    net net__vocab_size net__embedding_dim  \\\n",
       "7   <class 'src.network.worden.Worden'>           10680                100   \n",
       "40  <class 'src.network.worden.Worden'>           10680                100   \n",
       "31  <class 'src.network.worden.Worden'>           10680                100   \n",
       "60  <class 'src.network.worden.Worden'>           10680                100   \n",
       "43  <class 'src.network.worden.Worden'>           10680                100   \n",
       "15  <class 'src.network.worden.Worden'>           10680                100   \n",
       "20  <class 'src.network.worden.Worden'>           10680                100   \n",
       "3   <class 'src.network.worden.Worden'>           10680                100   \n",
       "54  <class 'src.network.worden.Worden'>           10680                100   \n",
       "11  <class 'src.network.worden.Worden'>           10680                100   \n",
       "\n",
       "                              net__trained_embeddings net__freeze_embeddings  \\\n",
       "7   tensor([[ 0.2235, -0.0750,  0.2944,  ...,  0.1...                  False   \n",
       "40  tensor([[ 0.2235, -0.0750,  0.2944,  ...,  0.1...                  False   \n",
       "31  tensor([[ 0.2235, -0.0750,  0.2944,  ...,  0.1...                  False   \n",
       "60  tensor([[ 0.2235, -0.0750,  0.2944,  ...,  0.1...                  False   \n",
       "43  tensor([[ 0.2235, -0.0750,  0.2944,  ...,  0.1...                  False   \n",
       "15  tensor([[ 0.2235, -0.0750,  0.2944,  ...,  0.1...                  False   \n",
       "20  tensor([[ 0.2235, -0.0750,  0.2944,  ...,  0.1...                  False   \n",
       "3   tensor([[ 0.2235, -0.0750,  0.2944,  ...,  0.1...                  False   \n",
       "54  tensor([[ 0.2235, -0.0750,  0.2944,  ...,  0.1...                  False   \n",
       "11  tensor([[ 0.2235, -0.0750,  0.2944,  ...,  0.1...                  False   \n",
       "\n",
       "   net__hidden_units net__layers_num net__hidden_type net__dropout_prob  \\\n",
       "7                128               2              GRU               0.3   \n",
       "40               256               2             LSTM               0.1   \n",
       "31               128               3             LSTM               0.3   \n",
       "60               256               3             LSTM               0.3   \n",
       "43               256               2             LSTM               0.1   \n",
       "15               128               2             LSTM               0.3   \n",
       "20               128               3              GRU               0.3   \n",
       "3                128               2              GRU               0.1   \n",
       "54               256               3              GRU               0.3   \n",
       "11               128               2             LSTM               0.1   \n",
       "\n",
       "                              optim      lr optim__weight_decay  \\\n",
       "7   <class 'torch.optim.adam.Adam'>  0.0001               1e-05   \n",
       "40  <class 'torch.optim.adam.Adam'>   0.001              0.0001   \n",
       "31  <class 'torch.optim.adam.Adam'>  0.0001               1e-05   \n",
       "60  <class 'torch.optim.adam.Adam'>   0.001              0.0001   \n",
       "43  <class 'torch.optim.adam.Adam'>  0.0001               1e-05   \n",
       "15  <class 'torch.optim.adam.Adam'>  0.0001               1e-05   \n",
       "20  <class 'torch.optim.adam.Adam'>   0.001              0.0001   \n",
       "3   <class 'torch.optim.adam.Adam'>  0.0001               1e-05   \n",
       "54  <class 'torch.optim.adam.Adam'>  0.0001              0.0001   \n",
       "11  <class 'torch.optim.adam.Adam'>  0.0001               1e-05   \n",
       "\n",
       "                                             loss_fn  \n",
       "7   <class 'torch.nn.modules.loss.CrossEntropyLoss'>  \n",
       "40  <class 'torch.nn.modules.loss.CrossEntropyLoss'>  \n",
       "31  <class 'torch.nn.modules.loss.CrossEntropyLoss'>  \n",
       "60  <class 'torch.nn.modules.loss.CrossEntropyLoss'>  \n",
       "43  <class 'torch.nn.modules.loss.CrossEntropyLoss'>  \n",
       "15  <class 'torch.nn.modules.loss.CrossEntropyLoss'>  \n",
       "20  <class 'torch.nn.modules.loss.CrossEntropyLoss'>  \n",
       "3   <class 'torch.nn.modules.loss.CrossEntropyLoss'>  \n",
       "54  <class 'torch.nn.modules.loss.CrossEntropyLoss'>  \n",
       "11  <class 'torch.nn.modules.loss.CrossEntropyLoss'>  "
      ]
     },
     "execution_count": 18,
     "metadata": {},
     "output_type": "execute_result"
    }
   ],
   "source": [
    "# Show only the rows where test loss is higher than train one (avoid overfitting)\n",
    "_results = results[results.test_loss < results.train_loss]\n",
    "_results = _results[:10]\n",
    "_results.head(10)"
   ]
  },
  {
   "cell_type": "code",
   "execution_count": 19,
   "metadata": {
    "colab": {
     "base_uri": "https://localhost:8080/",
     "height": 458
    },
    "colab_type": "code",
    "executionInfo": {
     "elapsed": 2176,
     "status": "ok",
     "timestamp": 1597587728833,
     "user": {
      "displayName": "Damiano Clementel",
      "photoUrl": "https://lh3.googleusercontent.com/a-/AOh14GjSojKIZQrbIHuYLHos2Fla3V7LmaCePFAQIaCX=s64",
      "userId": "10198905746942011346"
     },
     "user_tz": -120
    },
    "id": "qYwW5dVgehDX",
    "outputId": "7165248d-bcca-4ff2-adf9-6b7b41199062"
   },
   "outputs": [
    {
     "data": {
      "image/png": "[encoded data removed]",
      "text/plain": [
       "<Figure size 1512x504 with 2 Axes>"
      ]
     },
     "metadata": {
      "needs_background": "light"
     },
     "output_type": "display_data"
    }
   ],
   "source": [
    "# Plot execution times vs loss\n",
    "\n",
    "# Initialize plot\n",
    "fig, axs = plt.subplots(1, 2, figsize=(21, 7))\n",
    "\n",
    "# Retrieve x and y for training\n",
    "x_train = _results.train_time.tolist()\n",
    "y_train = _results.train_loss.tolist()\n",
    "# Retrieve x and y for evaluation\n",
    "x_eval = _results.test_time.tolist()\n",
    "y_eval = _results.test_loss.tolist()\n",
    "# Retrieve indices\n",
    "indices = _results.index.tolist()\n",
    "\n",
    "# Make plot\n",
    "axs[0].plot(x_train, y_train, 'o', markersize=24)\n",
    "# Loop through every marker in plot\n",
    "for j, index in enumerate(indices):\n",
    "    # Add marker index on point\n",
    "    axs[0].annotate(xy=(x_train[j], y_train[j]), s='%d' % index,\n",
    "                    color='white', weight='bold', \n",
    "                    horizontalalignment='center',\n",
    "                    verticalalignment='center')\n",
    "# Set title and labels\n",
    "axs[0].set_title('Training')\n",
    "axs[0].set_xlabel('Time (seconds)')\n",
    "axs[0].set_ylabel('Loss (float)')\n",
    "\n",
    "# Make plot\n",
    "axs[1].plot(x_eval, y_eval, 'o', markersize=24)\n",
    "# Loop through every marker in plot\n",
    "for j, index in enumerate(indices):\n",
    "    # Add marker index on point\n",
    "    axs[1].annotate(xy=(x_eval[j], y_eval[j]), s='%d' % index,\n",
    "                    color='white', weight='bold', \n",
    "                    horizontalalignment='center',\n",
    "                    verticalalignment='center')\n",
    "# Set title and labels\n",
    "axs[1].set_title('Evaluation')\n",
    "axs[1].set_xlabel('Time (seconds)')\n",
    "axs[1].set_ylabel('Loss (float)')\n",
    "# Save plot\n",
    "plt.savefig('images/worden/hyper.png')\n",
    "# Show plot\n",
    "plt.show()"
   ]
  },
  {
   "cell_type": "code",
   "execution_count": 20,
   "metadata": {},
   "outputs": [
    {
     "data": {
      "image/png": "[encoded data removed]",
      "text/plain": [
       "<Figure size 1512x504 with 1 Axes>"
      ]
     },
     "metadata": {
      "needs_background": "light"
     },
     "output_type": "display_data"
    }
   ],
   "source": [
    "# Plot training loss vs time\n",
    "\n",
    "# Initialize plot\n",
    "fig, ax = plt.subplots(1, 1, figsize=(21, 7))\n",
    "# Retrieve indices\n",
    "indices = _results.index.tolist()\n",
    "# Loop through each train loss in grid search\n",
    "for i, row in _results.iterrows():\n",
    "    # Define x (epoch number) and y (loss)\n",
    "    x = range(1, len(train_losses[i]) + 1)\n",
    "    y = train_losses[i]\n",
    "    # Make training scatter\n",
    "    ax.plot(x, y, '-')\n",
    "# Set title and labels\n",
    "ax.set_title('Test loss per epoch')\n",
    "ax.set_xlabel('Epoch number (int)')\n",
    "ax.set_ylabel('Computed loss (float)')\n",
    "# Add legend\n",
    "ax.legend(['%s' % (i + 1) for i in indices])\n",
    "# Show plot\n",
    "plt.show()"
   ]
  },
  {
   "cell_type": "markdown",
   "metadata": {
    "colab_type": "text",
    "id": "v7lOqcUlpWUV"
   },
   "source": [
    "### Model training\n",
    "\n",
    "Best model has following parameters:\n",
    "* Number of hidden units: 128\n",
    "* Number of layers: 2\n",
    "* Dropout probability: 0.3\n",
    "* Recurrent layer type: GRU\n",
    "* Adam optimizer\n",
    "    * Linear rate: 1e-4\n",
    "    * Weight decay: 1e-5"
   ]
  },
  {
   "cell_type": "code",
   "execution_count": 21,
   "metadata": {
    "colab": {
     "base_uri": "https://localhost:8080/",
     "height": 104
    },
    "colab_type": "code",
    "executionInfo": {
     "elapsed": 1049,
     "status": "ok",
     "timestamp": 1597587807340,
     "user": {
      "displayName": "Damiano Clementel",
      "photoUrl": "https://lh3.googleusercontent.com/a-/AOh14GjSojKIZQrbIHuYLHos2Fla3V7LmaCePFAQIaCX=s64",
      "userId": "10198905746942011346"
     },
     "user_tz": -120
    },
    "id": "pBVfhfIipThd",
    "outputId": "abe9367c-2bd9-4bae-88bc-9fc08d947d4d"
   },
   "outputs": [
    {
     "data": {
      "text/plain": [
       "Worden(\n",
       "  (rnn): GRU(100, 128, num_layers=2, batch_first=True, dropout=0.3)\n",
       "  (out): Linear(in_features=128, out_features=10680, bias=True)\n",
       "  (embed): Embedding(10680, 100)\n",
       ")"
      ]
     },
     "execution_count": 21,
     "metadata": {},
     "output_type": "execute_result"
    }
   ],
   "source": [
    "# Instantiate new network\n",
    "net = Worden(vocab_size=len(words), embedding_dim=embedding_dim,\n",
    "             trained_embeddings=vectors, freeze_embeddings=False,\n",
    "             hidden_units=128, layers_num=2, hidden_type='GRU',\n",
    "             dropout_prob=0.3)\n",
    "# Move network to selected device\n",
    "net.to(device)\n",
    "# Define optimizer\n",
    "optimizer = optim.Adam(net.parameters(), lr=1e-4, weight_decay=1e-5)\n",
    "# Define loss function\n",
    "loss_fn = nn.CrossEntropyLoss()\n",
    "\n",
    "# Show network\n",
    "net"
   ]
  },
  {
   "cell_type": "code",
   "execution_count": 22,
   "metadata": {
    "colab": {
     "base_uri": "https://localhost:8080/",
     "height": 295
    },
    "colab_type": "code",
    "id": "uSFXOUEnpaes",
    "outputId": "f8d677bf-da2a-4326-8f2d-1a5ffb153568"
   },
   "outputs": [],
   "source": [
    "# # Define network path\n",
    "# net_path = 'data/worden/model.pth'\n",
    "# # Define epochs path\n",
    "# epochs_path = 'data/worden/train.json'\n",
    "\n",
    "# Define encode function\n",
    "def encode_fn(string):\n",
    "    # Clean input text\n",
    "    string = dataset.clean_text(string)\n",
    "    # Split input string in words\n",
    "    words = dataset.split_words(string)\n",
    "    # Turn unknown words into unknown string\n",
    "    words = [(w if w in word_to_vector.words else '') for w in words]\n",
    "    # One hot encode characters\n",
    "    encoded = word_to_vector(words)\n",
    "    # Cast encoded sentence to tensor\n",
    "    return to_tensor(encoded).unsqueeze(0)\n",
    "    \n",
    "\n",
    "# Define decode function\n",
    "def decode_fn(index):\n",
    "    return word_to_vector.decoder.get(index)"
   ]
  },
  {
   "cell_type": "code",
   "execution_count": 23,
   "metadata": {},
   "outputs": [],
   "source": [
    "# Define number of epochs\n",
    "num_epochs = NUM_EPOCHS\n",
    "# Define number of epochs per checkpoint\n",
    "save_after = SAVE_AFTER\n",
    "\n",
    "# Do only if model training is enabled\n",
    "if MODEL_TRAIN:\n",
    "    \n",
    "    # Define actual datetime\n",
    "    now = datetime.datetime.now()\n",
    "    # Define training path\n",
    "    train_path = 'data/worden/%s' % now.strftime('%Y_%m_%d_%H_%M_%S')\n",
    "    # Define network path\n",
    "    net_path = train_path + '/net.pth'\n",
    "    # Define epochs path\n",
    "    epochs_path = train_path + '/epochs.json'\n",
    "    \n",
    "    # Make directory\n",
    "    os.makedirs(train_path, exist_ok=True)\n",
    "  \n",
    "    # Define verbose seed\n",
    "    seed = 'I beg you want to test this'\n",
    "    # Make train and test\n",
    "    train_test_epochs(\n",
    "        net=net, loss_fn=loss_fn, optimizer=optimizer, num_epochs=num_epochs,\n",
    "        train_dl=train_dataloader, test_dl=test_dataloader, \n",
    "        seed=seed, crop_len=CROP_LEN, encode_fn=encode_fn, decode_fn=decode_fn,\n",
    "        save_after=SAVE_AFTER, net_path=net_path, epochs_path=epochs_path,\n",
    "        verbose=True, device=device\n",
    "    )"
   ]
  },
  {
   "cell_type": "code",
   "execution_count": 24,
   "metadata": {
    "colab": {},
    "colab_type": "code",
    "id": "JatF4xHTpgEr"
   },
   "outputs": [
    {
     "data": {
      "image/png": "[encoded data removed]",
      "text/plain": [
       "<Figure size 1512x504 with 1 Axes>"
      ]
     },
     "metadata": {
      "needs_background": "light"
     },
     "output_type": "display_data"
    }
   ],
   "source": [
    "# Show epochs loss\n",
    "\n",
    "# Load epochs\n",
    "train_losses, train_times, test_losses, test_times, _ = load_epochs(path=MODEL_PATH + '/epochs.json')\n",
    "# Define number of epochs\n",
    "num_epochs = len(train_losses)\n",
    "\n",
    "# Initialize plot\n",
    "fig, ax = plt.subplots(figsize=(21, 7))\n",
    "# Set title and labels\n",
    "ax.set_title('Loss per epoch')\n",
    "ax.set_xlabel('Epoch number')\n",
    "ax.set_ylabel('Computed loss')\n",
    "# Plot scatter\n",
    "ax.plot(range(num_epochs), train_losses, '-')\n",
    "ax.plot(range(num_epochs), test_losses, '-', alpha=.7)\n",
    "# Add legend\n",
    "ax.legend(['Train', 'Test'])\n",
    "# Save plot\n",
    "plt.savefig('images/worden/epochs.png')\n",
    "# Show plot\n",
    "plt.show()"
   ]
  },
  {
   "cell_type": "markdown",
   "metadata": {
    "colab_type": "text",
    "id": "2K_j2SiQpj2U"
   },
   "source": [
    "### Text generation"
   ]
  },
  {
   "cell_type": "code",
   "execution_count": 25,
   "metadata": {
    "colab": {},
    "colab_type": "code",
    "id": "1dxbxRCHpjNW"
   },
   "outputs": [
    {
     "data": {
      "text/plain": [
       "Worden(\n",
       "  (rnn): GRU(100, 128, num_layers=2, batch_first=True, dropout=0.3)\n",
       "  (out): Linear(in_features=128, out_features=10680, bias=True)\n",
       "  (embed): Embedding(10680, 100)\n",
       ")"
      ]
     },
     "execution_count": 25,
     "metadata": {},
     "output_type": "execute_result"
    }
   ],
   "source": [
    "# Load network from file\n",
    "net, _ = Worden.from_file(path=MODEL_PATH + '/net.pth')\n",
    "# Set network in evaluation mode\n",
    "net.eval()"
   ]
  },
  {
   "cell_type": "code",
   "execution_count": 26,
   "metadata": {
    "colab": {},
    "colab_type": "code",
    "id": "K63Q1LSdizIG"
   },
   "outputs": [
    {
     "name": "stdout",
     "output_type": "stream",
     "text": [
      "Generated text (seed: \"Once upon a time there was\")\n",
      "Once upon a time there was a little perspiration, and the last stunned such a holiday about the great sister. it was pleasant and perhaps to take me.\"\n",
      "\n",
      " you, ma'am,\" except the next wonder, winking at midnight,\" what was a sister.\"\n",
      "\n",
      ".\"\n",
      "\n",
      ", that hemmed miss havisham neither?\"\n",
      "\n",
      " estella.\"\n",
      "\n",
      "!\n",
      "\n",
      ", and stood at the poker with the behind pip. will are it pretences on, sir, and when, rang on whether nor do to put the further of finding to least utterly forgotten.\n",
      "\n",
      ", turning a loophole,\" said mr. pumblechook,\" a saint unoffending or no empty and cherished playful plump.\"\n",
      "\n",
      " night.\n",
      "\n",
      " you've a man. and gargery either difficult to go so! you a forced with his pockets, and then ever your sister would have those diamond and moody capital to the rum, as you were offered to bentley the forge for wot't do it conscience together. you think?\"\n",
      "\n",
      " the old.\"\n",
      "\n",
      " into behind readily, well.\n",
      "\n",
      ", and on your hat.\"\n",
      "\n",
      " round my own bank over it, love a ghastly biddy, therefore the most four way to come through it,\" he pleaded and with a nightmare, as she had no turned on my noses quiet down as if he was found a next wall, and joe began on the sergeant, with their supremacy snarling days by pole, he not thought we were a yellow child, was at a shadowy manner in my, as if he kept hands with my wishes, that the blessing was walked down from him, that i called a little and staring they left, little in with with intelligence with the receive live and good frame.\n",
      "\n",
      ", joe,\" mentioned of his shoulder with his hand. i at those there was trying that he severely, and we know a pound and hat, in his family character!\"\n",
      "\n",
      " mr. pumblechook's, wemmick, settling me. and that he stopped his fingers in its narrative, in his eyes and later to lapse hedge it by the shelf, and we were purvis, and put her eyes down smiling, look at the smell with the fire, startled as my name was his struck and geese, and we cried going to him, that my head came, and course that from that i would have no wrong further. i saw the least another time not a night. and when i mind, as to the missionary of smoking getting in a thing for the jolly wife.\n",
      "\n",
      ", therefore she was not eyes at me, and took her before it.\n",
      "\n",
      ", looking to the great gentleman to rapid down by boats towards' the room who had arm down. i had certainly the river, and i reckon. what he were since i would mention the thing to been a paper for a endowed of intently upon the boar!\"\n",
      "\n",
      "!\"\n",
      "\n",
      " instructed your country and eating to his lesson gigantic. pocket,\" might does it sat and hot through these interest and come into my desperate fur to me, some fluttering of four waking, for\" herbert was as here what he kept it much to the motherly place, he looked my hands on all his feet, that mr. gargery! if you don't am anything that. drummle's all, no don't got up on the savage shoulder.\"\n",
      "\n",
      " him.\"\n",
      "\n",
      " the unpleasant sort, and a mouth,\" of you talked. this, i had impulse this agreeable of all unknown of what you've waved the subject!\"\n",
      "\n",
      " the savory of three wave, and what take miss havisham, next boy?\"\n",
      "\n",
      " the other legs?\" i am returned, nor the best of haste in their stepped indeed. i was at all your part, a pleasure i can leave it out as she replied,\" said mr. pip, old striking of the supper, without the action of it. i lad.\n",
      "\n",
      " and mrs. pocket, that you are to' if you should mean better being same, another!\"\n",
      "\n",
      " you, by the prisoner write the old, six,\" said i, then to get a case.\n",
      "\n",
      " ride for him.\n",
      "\n",
      " my looking sentiment, even a setting of her hand, for that i had had seen the high quiet ourselves. since there was already go at me.\" is what we felt to morrow mortified you do and think of some chap,\" retorted i don't know how he heard to the pain to that i know he is hurt and it had been right abel there?\"\n",
      "\n",
      " the case.\"\n",
      "\n",
      " and what do it was.\"\n",
      "\n",
      " the preparation,\" what approve though to be as to know that i was nothing!\"\n",
      "\n",
      " this my, smiling\" what we should keep my are need by a place of you. he can placable giving to you as you like to know.\"\n",
      "\n",
      " well, and money without not a shoulder whereon with chance into way than you mind resemblance out.\"\n",
      "\n",
      ", wemmick.? i must be known it, and that i does the question is so dear your lost, one at you.\"\n"
     ]
    }
   ],
   "source": [
    "# Define input seed sentence\n",
    "seed = 'Once upon a time there was'\n",
    "# Generate text using trained network\n",
    "generated = net.generate_text(\n",
    "    # Set seed sentence\n",
    "    seed=seed,\n",
    "    # Number of characters to predict\n",
    "    num_words=1000,\n",
    "    # Set encoding function\n",
    "    encode_fn=encode_fn,\n",
    "    # Set decoding function\n",
    "    decode_fn=decode_fn,\n",
    "    # Decision function\n",
    "    decision_how='softmax'\n",
    ")\n",
    "\n",
    "# Print seed sentence\n",
    "print('Generated text (seed: \"%s\")' % seed)\n",
    "# Print generated text\n",
    "print(generated)"
   ]
  },
  {
   "cell_type": "code",
   "execution_count": null,
   "metadata": {},
   "outputs": [],
   "source": []
  }
 ],
 "metadata": {
  "accelerator": "GPU",
  "colab": {
   "collapsed_sections": [],
   "name": "worden.ipynb",
   "provenance": []
  },
  "kernelspec": {
   "display_name": "Python 3",
   "language": "python",
   "name": "python3"
  },
  "language_info": {
   "codemirror_mode": {
    "name": "ipython",
    "version": 3
   },
   "file_extension": ".py",
   "mimetype": "text/x-python",
   "name": "python",
   "nbconvert_exporter": "python",
   "pygments_lexer": "ipython3",
   "version": "3.7.6"
  }
 },
 "nbformat": 4,
 "nbformat_minor": 4
}
